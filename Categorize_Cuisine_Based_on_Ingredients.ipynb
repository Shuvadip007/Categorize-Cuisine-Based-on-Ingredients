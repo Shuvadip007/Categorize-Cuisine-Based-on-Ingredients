{
  "nbformat": 4,
  "nbformat_minor": 0,
  "metadata": {
    "colab": {
      "provenance": []
    },
    "kernelspec": {
      "name": "python3",
      "display_name": "Python 3"
    },
    "language_info": {
      "name": "python"
    }
  },
  "cells": [
    {
      "cell_type": "code",
      "execution_count": 1,
      "metadata": {
        "id": "qY-1ACFhTtoM"
      },
      "outputs": [],
      "source": [
        "import zipfile\n",
        "import json\n",
        "import numpy as np\n",
        "import pandas as pd\n",
        "from sklearn.feature_extraction.text import TfidfVectorizer\n",
        "from sklearn.preprocessing import LabelEncoder\n",
        "from sklearn.model_selection import train_test_split\n",
        "from sklearn.linear_model import LogisticRegression\n",
        "from sklearn.svm import SVC\n",
        "from sklearn.ensemble import RandomForestClassifier\n",
        "from sklearn.naive_bayes import MultinomialNB\n",
        "from sklearn.metrics import accuracy_score\n",
        "from sklearn.model_selection import GridSearchCV"
      ]
    },
    {
      "cell_type": "code",
      "source": [
        "def load_json_from_zip(zip_path, json_filename):\n",
        "    with zipfile.ZipFile(zip_path,'r') as z:\n",
        "        with z.open(json_filename,'r') as f:\n",
        "            return json.load(f)"
      ],
      "metadata": {
        "id": "qiMYywY3UxRB"
      },
      "execution_count": 2,
      "outputs": []
    },
    {
      "cell_type": "code",
      "source": [
        "from google.colab import drive\n",
        "drive.mount('/content/drive')"
      ],
      "metadata": {
        "colab": {
          "base_uri": "https://localhost:8080/"
        },
        "id": "JbPB8VlNU59V",
        "outputId": "81b8e7ca-05ad-4203-ef9b-b1d70d15ffcd"
      },
      "execution_count": 3,
      "outputs": [
        {
          "output_type": "stream",
          "name": "stdout",
          "text": [
            "Drive already mounted at /content/drive; to attempt to forcibly remount, call drive.mount(\"/content/drive\", force_remount=True).\n"
          ]
        }
      ]
    },
    {
      "cell_type": "code",
      "source": [
        "train_data= load_json_from_zip('/content/drive/MyDrive/whats-cooking.zip (Unzipped Files)/train.json.zip', \"train.json\")\n",
        "test_data= load_json_from_zip('/content/drive/MyDrive/whats-cooking.zip (Unzipped Files)/test.json.zip', \"test.json\")\n"
      ],
      "metadata": {
        "id": "g6wRE_5kU4RW"
      },
      "execution_count": 4,
      "outputs": []
    },
    {
      "cell_type": "code",
      "source": [
        "train_df= pd.DataFrame(train_data)\n",
        "test_df= pd.DataFrame(test_data)\n",
        "\n",
        "train_df['ingredients_str'] = train_df['ingredients'].apply(lambda x: ' '.join(x))\n",
        "test_df['ingredients_str'] = test_df['ingredients'].apply(lambda x: ' '.join(x))"
      ],
      "metadata": {
        "id": "AaRI29YPVN-e"
      },
      "execution_count": 5,
      "outputs": []
    },
    {
      "cell_type": "code",
      "source": [
        "label_encoder= LabelEncoder()\n",
        "y= label_encoder.fit_transform(train_df['cuisine'])"
      ],
      "metadata": {
        "id": "FtrLwkfoVOa-"
      },
      "execution_count": 6,
      "outputs": []
    },
    {
      "cell_type": "code",
      "source": [
        "tfidf= TfidfVectorizer(stop_words='english', ngram_range=(1,2), max_features= 5000)\n",
        "X= tfidf.fit_transform(train_df['ingredients_str'])\n",
        "X_test = tfidf.transform(test_df['ingredients_str'])"
      ],
      "metadata": {
        "id": "QMajzQJEVPyj"
      },
      "execution_count": 7,
      "outputs": []
    },
    {
      "cell_type": "code",
      "source": [
        "# Split train data for validation\n",
        "X_train, X_val, y_train, y_val = train_test_split(X, y, test_size=0.2, random_state=42)"
      ],
      "metadata": {
        "id": "2A-doNZSVRC8"
      },
      "execution_count": 8,
      "outputs": []
    },
    {
      "cell_type": "code",
      "source": [
        "# Model training and evaluation\n",
        "models = {\n",
        "    'Logistic Regression': LogisticRegression(max_iter=1000),\n",
        "    'SVM': SVC(kernel='linear', probability=True),\n",
        "    'Random Forest': RandomForestClassifier(n_estimators=200),\n",
        "    'Naive Bayes': MultinomialNB()\n",
        "}\n",
        "\n",
        "best_model = None\n",
        "best_score = 0\n",
        "\n",
        "for name, model in models.items():\n",
        "    model.fit(X_train, y_train)\n",
        "    y_pred = model.predict(X_val)\n",
        "    score = accuracy_score(y_val, y_pred)\n",
        "    print(f\"{name}: {score:.4f}\")\n",
        "\n",
        "    if score > best_score:\n",
        "        best_score = score\n",
        "        best_model = model"
      ],
      "metadata": {
        "colab": {
          "base_uri": "https://localhost:8080/"
        },
        "id": "LevvLmzjVTMf",
        "outputId": "6f185d93-b536-41e0-babb-73d91076a023"
      },
      "execution_count": null,
      "outputs": [
        {
          "output_type": "stream",
          "name": "stdout",
          "text": [
            "Logistic Regression: 0.7767\n",
            "SVM: 0.7808\n"
          ]
        }
      ]
    },
    {
      "cell_type": "code",
      "source": [
        "final_model = best_model  # or best_model from earlier\n",
        "print(best_model)"
      ],
      "metadata": {
        "id": "eSn3TmijVV-z"
      },
      "execution_count": null,
      "outputs": []
    },
    {
      "cell_type": "code",
      "source": [
        "test_predictions = final_model.predict(X_test)\n",
        "test_predictions_cuisine = label_encoder.inverse_transform(test_predictions)"
      ],
      "metadata": {
        "id": "h1-mmvDGVaNh"
      },
      "execution_count": null,
      "outputs": []
    },
    {
      "cell_type": "code",
      "source": [
        "# Prepare submission\n",
        "submission = pd.DataFrame({\n",
        "    'id': test_df['id'],\n",
        "    'cuisine': test_predictions_cuisine\n",
        "})\n",
        "\n",
        "submission.to_csv('submission.csv', index=False)"
      ],
      "metadata": {
        "id": "8NOnQdcPVa5f"
      },
      "execution_count": null,
      "outputs": []
    }
  ]
}